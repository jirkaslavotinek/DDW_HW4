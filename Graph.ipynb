{
 "cells": [
  {
   "cell_type": "markdown",
   "metadata": {
    "deletable": true,
    "editable": true
   },
   "source": [
    "Loading file and creating named entities per sentence."
   ]
  },
  {
   "cell_type": "code",
   "execution_count": 3,
   "metadata": {
    "collapsed": false,
    "deletable": true,
    "editable": true
   },
   "outputs": [],
   "source": [
    "import networkx as nx\n",
    "import matplotlib.pyplot as plt\n",
    "from networkx.drawing.nx_agraph import graphviz_layout\n",
    "import operator\n",
    "\n",
    "inputFile = \"./casts.csv\"\n",
    "delimitor = \";\""
   ]
  },
  {
   "cell_type": "markdown",
   "metadata": {
    "deletable": true,
    "editable": true
   },
   "source": [
    "In graph"
   ]
  },
  {
   "cell_type": "code",
   "execution_count": 4,
   "metadata": {
    "collapsed": false
   },
   "outputs": [
    {
     "name": "stdout",
     "output_type": "stream",
     "text": [
      "46233\n"
     ]
    }
   ],
   "source": [
    "# input text\n",
    "lines = None\n",
    "with open(inputFile, 'r') as f:\n",
    "    lines = f.readlines()\n",
    "    \n",
    "actors = []\n",
    "movie = \"\"\n",
    "G = nx.Graph()\n",
    "\n",
    "#print(len(lines))\n",
    "\n",
    "for line in lines:\n",
    "    line = line.split(delimitor)\n",
    "    if line[2][1:-1] == \"s a\": #some dummy names\n",
    "        continue\n",
    "    G.add_node(line[2][1:-1])\n",
    "    if movie == line[1][1:-1]:\n",
    "        for actor in actors:\n",
    "            G.add_edge(line[2][1:-1], actor)\n",
    "    else:\n",
    "        actors = []\n",
    "        movie = line[1][1:-1]\n",
    "    \n",
    "    actors.append(line[2][1:-1])"
   ]
  },
  {
   "cell_type": "markdown",
   "metadata": {
    "deletable": true,
    "editable": true
   },
   "source": [
    "Statistics"
   ]
  },
  {
   "cell_type": "code",
   "execution_count": 5,
   "metadata": {
    "collapsed": false,
    "deletable": true,
    "editable": true
   },
   "outputs": [
    {
     "name": "stdout",
     "output_type": "stream",
     "text": [
      "Number of nodes: 16615\n",
      "Number of edges: 132233\n",
      "density: 0.0009580657061085827\n",
      "Centralities:\n",
      "Deg done\n",
      "Clo done\n",
      "Bet done\n",
      "Eig done\n",
      "Degree: \n",
      "('Humphrey Bogart', 0.022511135187191524)\n",
      "('John Carradine', 0.01932105453232214)\n",
      "('James Stewart', 0.019080293728181052)\n",
      "('Peter Lorre', 0.018358011315757795)\n",
      "('Henry Fonda', 0.017996870109546165)\n",
      "('Gary Cooper', 0.017816299506440352)\n",
      "('John Gielgud', 0.017214397496087636)\n",
      "('Cary Grant', 0.01691344649091128)\n",
      "('Burt Lancaster', 0.01649211508366438)\n",
      "('David Niven', 0.016251354279523293)\n",
      "\n",
      "Closeness: \n",
      "('Burt Lancaster', 0.33066727073544955)\n",
      "('John Gielgud', 0.3287796869323312)\n",
      "('Henry Fonda', 0.32708078442643923)\n",
      "('Charlton Heston', 0.32621293052348105)\n",
      "('John Carradine', 0.32594682432951877)\n",
      "('David Niven', 0.32448273124726207)\n",
      "('Roddy McDowall', 0.3221283859823738)\n",
      "('Paul Newman', 0.32100426854786007)\n",
      "('Vincent Price', 0.3209720359674255)\n",
      "('Robert Mitchum', 0.3207385432032701)\n",
      "\n",
      "Betweenness: \n",
      "('Vincent Price', 0.013116264986132737)\n",
      "('Burt Lancaster', 0.012710949279444765)\n",
      "('John Gielgud', 0.01154937113843168)\n",
      "('John Carradine', 0.011506286573691875)\n",
      "('Gene Hackman', 0.011288360659545962)\n",
      "('Jack Nicholson', 0.010149356588498954)\n",
      "('Sean Connery', 0.010106792486566)\n",
      "('Robert deNiro', 0.009279272925075018)\n",
      "('Anthony Quinn', 0.008797727090092291)\n",
      "('Max vonSydow', 0.008658115213881034)\n",
      "\n",
      "Eigenvector: \n",
      "('John Carradine', 0.11244333057089273)\n",
      "('Peter Lorre', 0.10403155643229978)\n",
      "('James Stewart', 0.10309999753799651)\n",
      "('Henry Fonda', 0.09915354351663888)\n",
      "('David Niven', 0.09233180051544106)\n",
      "('Humphrey Bogart', 0.09214205379748584)\n",
      "('Cary Grant', 0.08925182883411287)\n",
      "('C.Aubrey Smith', 0.08836457496698848)\n",
      "('Gary Cooper', 0.08818209680190094)\n",
      "('Donald Crisp', 0.08292158844739946)\n",
      "\n",
      "Components:\n",
      "Communities:\n"
     ]
    }
   ],
   "source": [
    "print(\"Number of nodes: \" + str(G.number_of_nodes()))\n",
    "print(\"Number of edges: \" + str(G.number_of_edges()))\n",
    "print(\"density: \" +str(nx.density(G)))\n",
    "\n",
    "print(\"Centralities:\")\n",
    "\n",
    "deg = sorted(nx.degree_centrality(G).items(), key=operator.itemgetter(1), reverse=True)\n",
    "print(\"Deg done\")\n",
    "clo = sorted(nx.closeness_centrality(G).items(), key=operator.itemgetter(1), reverse=True)\n",
    "print(\"Clo done\")\n",
    "bet = sorted(nx.betweenness_centrality(G).items(), key=operator.itemgetter(1), reverse=True)\n",
    "print(\"Bet done\")\n",
    "eig = sorted(nx.eigenvector_centrality(G, 1000).items(), key=operator.itemgetter(1), reverse=True)\n",
    "print(\"Eig done\")\n",
    "\n",
    "print(\"Degree: \")\n",
    "for elem in deg[:10]:\n",
    "    print(elem)\n",
    "print(\"\\nCloseness: \")\n",
    "for elem in clo[:10]:\n",
    "    print(elem)\n",
    "print(\"\\nBetweenness: \")\n",
    "for elem in bet[:10]:\n",
    "    print(elem)\n",
    "print(\"\\nEigenvector: \")\n",
    "for elem in eig[:10]:\n",
    "    print(elem)\n",
    "print()"
   ]
  },
  {
   "cell_type": "code",
   "execution_count": 44,
   "metadata": {
    "collapsed": false
   },
   "outputs": [
    {
     "name": "stdout",
     "output_type": "stream",
     "text": [
      "done\n"
     ]
    }
   ],
   "source": [
    "precomputed_cliques = list(nx.find_cliques(G))\n",
    "communities = list(nx.k_clique_communities(G,3, precomputed_cliques))\n",
    "print(\"done\")"
   ]
  },
  {
   "cell_type": "markdown",
   "metadata": {},
   "source": [
    "Communities"
   ]
  },
  {
   "cell_type": "code",
   "execution_count": 113,
   "metadata": {
    "collapsed": false,
    "deletable": true,
    "editable": true
   },
   "outputs": [
    {
     "name": "stdout",
     "output_type": "stream",
     "text": [
      "Communities:\n",
      "Number of communities  1529\n",
      "Largest community size:  10968\n"
     ]
    }
   ],
   "source": [
    "print(\"Communities:\")\n",
    "#communities = {node:cid+1 for cid,community in enumerate(nx.k_clique_communities(G,3, precomputed_cliques)) for node in community}\n",
    "\n",
    "\n",
    "i = 0\n",
    "best = 0\n",
    "\n",
    "for community in communities:\n",
    "    #print(community)\n",
    "    if len(community) > 0:\n",
    "        i = i + 1\n",
    "        if len(community) > best:\n",
    "            bestC = i\n",
    "            best = len(community)\n",
    "\n",
    "print(\"Number of communities \", i)\n",
    "#print(communities[bestC-1])\n",
    "print(\"Largest community size: \", best)"
   ]
  },
  {
   "cell_type": "markdown",
   "metadata": {},
   "source": [
    "Components"
   ]
  },
  {
   "cell_type": "code",
   "execution_count": 112,
   "metadata": {
    "collapsed": false
   },
   "outputs": [
    {
     "name": "stdout",
     "output_type": "stream",
     "text": [
      "Components:\n",
      "\n",
      "Number of components 844\n",
      "Number of edges in max component: 129145\n",
      "Density of max component: 0.0012157958852447596\n"
     ]
    }
   ],
   "source": [
    "print(\"Components:\")\n",
    "components = nx.connected_components(G)\n",
    "\n",
    "i = 0\n",
    "for com in components:\n",
    "    i = i +1\n",
    "    if len(com)>100:\n",
    "        Component = G.subgraph(com)\n",
    "        \n",
    "print(\"\\nNumber of components\", i)\n",
    "\n",
    "print(\"Number of edges in max component: \" + str(Component.number_of_edges()))\n",
    "print(\"Density of max component: \" +str(nx.density(Component)))\n",
    "\n"
   ]
  },
  {
   "cell_type": "markdown",
   "metadata": {},
   "source": [
    "Bacon number"
   ]
  },
  {
   "cell_type": "code",
   "execution_count": 110,
   "metadata": {
    "collapsed": false
   },
   "outputs": [
    {
     "name": "stdout",
     "output_type": "stream",
     "text": [
      "[('Elisa Touati', 6), ('Alex VanWarmerdam', 6), ('Elsa Zylberstein', 6), ('Lam ChiCheung', 6), ('Carlos Lopez', 6), ('Maria deMederios', 6), ('Paredes', 6), ('Cecilia Roth', 6), ('Jose Sacristan', 6), ('Rudolf Lucieer', 6)]\n",
      "[('Vincent Price', 0), ('Errol Flynn', 1), ('Glenn Langan', 1), ('Victor mature', 1), ('Dennis Hopper', 1), ('Brian Wilson', 1), ('Sandra Knight', 1), ('Patrick Mower', 1), ('Oh! Ogunde', 1), ('Richard Johnson', 1)]\n",
      "2.7329857299670692\n"
     ]
    }
   ],
   "source": [
    "from networkx import *\n",
    "\n",
    "bacon_number={}\n",
    "for a in G:\n",
    "    try:\n",
    "        bacon_number[a]=shortest_path_length(G,a,'Vincent Price')\n",
    "    except:\n",
    "        bacon_number[a]=1000000\n",
    "        \n",
    "bacon_numberC={}\n",
    "for a in Component:\n",
    "    bacon_numberC[a]=shortest_path_length(Component,a,'Vincent Price')\n",
    "\n",
    "print(sorted(bacon_numberC.items(), key=operator.itemgetter(1), reverse=True)[:10])\n",
    "print(sorted(bacon_numberC.items(), key=operator.itemgetter(1), reverse=False)[:10])\n",
    "avgNum = sum(bacon_numberC[number] for number in bacon_numberC)/len(bacon_numberC)\n",
    "print(avgNum)\n"
   ]
  },
  {
   "cell_type": "markdown",
   "metadata": {},
   "source": [
    "Saving to file"
   ]
  },
  {
   "cell_type": "code",
   "execution_count": 106,
   "metadata": {
    "collapsed": false
   },
   "outputs": [],
   "source": [
    "def toDict(listek):\n",
    "    myDict = {}\n",
    "    for l in listek:\n",
    "        myDict[l[0]] = l[1]\n",
    "    return myDict\n",
    "    \n",
    "\n",
    "set_node_attributes(G, \"degree\", toDict(deg))\n",
    "set_node_attributes(G, \"closeness\", toDict(clo))\n",
    "set_node_attributes(G, \"betweenness\", toDict(bet))\n",
    "set_node_attributes(G, \"eigenvector\", toDict(eig))\n",
    "set_node_attributes(G, \"bacon\", bacon_number)"
   ]
  },
  {
   "cell_type": "code",
   "execution_count": 107,
   "metadata": {
    "collapsed": false
   },
   "outputs": [],
   "source": [
    "write_gexf(G, \"export.gexf\")"
   ]
  }
 ],
 "metadata": {
  "anaconda-cloud": {},
  "kernelspec": {
   "display_name": "Python [default]",
   "language": "python",
   "name": "python3"
  },
  "language_info": {
   "codemirror_mode": {
    "name": "ipython",
    "version": 3
   },
   "file_extension": ".py",
   "mimetype": "text/x-python",
   "name": "python",
   "nbconvert_exporter": "python",
   "pygments_lexer": "ipython3",
   "version": "3.5.2"
  }
 },
 "nbformat": 4,
 "nbformat_minor": 2
}
